{
 "cells": [
  {
   "cell_type": "markdown",
   "metadata": {},
   "source": [
    "# zero default\n",
    "- stare vrednosti \n",
    "- `const float zeroDefaultValues[2] = {0.08116531, 0.0796367};`\n",
    "- `const float stepValues[2] = {0.00108, 0.0011219};`\n"
   ]
  },
  {
   "cell_type": "code",
   "execution_count": 28,
   "metadata": {},
   "outputs": [
    {
     "name": "stdout",
     "output_type": "stream",
     "text": [
      "[[ 8.42696902 13.75040215 19.66629593 21.06594565]\n",
      " [12.60706277 16.68409464 19.9189635  21.1373542 ]]\n"
     ]
    }
   ],
   "source": [
    "import numpy as np\n",
    "old_zero_default = [0.08116531, 0.0796367]\n",
    "step = [0.00108, 0.0011219]\n",
    "# prvo negativne vrednosti pa pozitivne\n",
    "desired_angle = np.array([[10, 15, 20, 23], [10, 15, 20, 23]])\n",
    "diameter = np.array([[351, 212.5, 145.5, 135], [232.5, 173.5, 143.5, 134.5]])\n",
    "R = diameter/2\n",
    "actual_angle = np.arctan(26/R)\n",
    "actual_angle = np.rad2deg(actual_angle)\n",
    "print(actual_angle)"
   ]
  },
  {
   "cell_type": "code",
   "execution_count": 29,
   "metadata": {},
   "outputs": [
    {
     "name": "stdout",
     "output_type": "stream",
     "text": [
      "[2.09004687 1.46684624 0.12633378 0.03570428]\n"
     ]
    }
   ],
   "source": [
    "d = desired_angle - actual_angle\n",
    "D = (d[0,:] - d[1,:])/2\n",
    "print(D)"
   ]
  },
  {
   "cell_type": "code",
   "execution_count": 32,
   "metadata": {},
   "outputs": [
    {
     "name": "stdout",
     "output_type": "stream",
     "text": [
      "[1.77844656 0.08101903]\n"
     ]
    }
   ],
   "source": [
    "# prvo za angle od 0 do 15 pa od 15 do 30\n",
    "D = np.array([np.mean(D[0:2]), np.mean(D[2:4])])\n",
    "print(D)"
   ]
  },
  {
   "cell_type": "code",
   "execution_count": 42,
   "metadata": {},
   "outputs": [
    {
     "name": "stdout",
     "output_type": "stream",
     "text": [
      "new_step=[0.0010840697931383324, 0.0009622808645584268]\n"
     ]
    }
   ],
   "source": [
    "# calculate step values\n",
    "delta_S_V = [0, 0]\n",
    "delta_S_V[1] = D[0]/np.mean([10,15]) * step[1]\n",
    "delta_S_V[0] = D[1]/np.mean([20, 23]) * step[0]\n",
    "# print(delta_S_V)\n",
    "\n",
    "new_step = [0,0]\n",
    "if actual_angle[1,0] > desired_angle[1,0]: \n",
    "    new_step[1] = step[1] - delta_S_V[1]\n",
    "else:\n",
    "    new_step[1] = step[1] + delta_S_V[1]\n",
    "\n",
    "if actual_angle[1,-1] > desired_angle[1,-1]: \n",
    "    new_step[0] = step[0] - delta_S_V[0]\n",
    "else:\n",
    "    new_step[0] = step[0] + delta_S_V[0]\n",
    "\n",
    "print(f'{new_step=}')"
   ]
  },
  {
   "cell_type": "code",
   "execution_count": 36,
   "metadata": {},
   "outputs": [
    {
     "name": "stdout",
     "output_type": "stream",
     "text": [
      "[0.08125281055247414, 0.07764146080698034]\n"
     ]
    }
   ],
   "source": [
    "delta_D_C = D[::-1] * step\n",
    "print(delta_D_C)\n",
    "new_zero_default = [0,0]\n",
    "if np.abs(d[0,0]) > np.abs(d[1,0]) :\n",
    "    new_zero_default[1] = old_zero_default[1] + delta_D_C[1]\n",
    "else:\n",
    "    new_zero_default[1] = old_zero_default[1] - delta_D_C[1]\n",
    "\n",
    "if np.abs(d[0,-1]) > np.abs(d[1,-1]) :\n",
    "    new_zero_default[0] = old_zero_default[0] + delta_D_C[0]\n",
    "else:\n",
    "    new_zero_default[0] = old_zero_default[0] - delta_D_C[0]\n",
    "\n",
    "print(new_zero_default)\n",
    "    "
   ]
  },
  {
   "cell_type": "markdown",
   "metadata": {},
   "source": [
    "- R = 350 , theta = -10, got -8.45\n",
    "- R = 205, theta = 10, got 14.23"
   ]
  },
  {
   "cell_type": "code",
   "execution_count": 43,
   "metadata": {},
   "outputs": [],
   "source": [
    "def calc_angle(d):\n",
    "    R = d/2\n",
    "    theta = np.rad2deg(np.arctan(26/R))\n",
    "    return theta"
   ]
  },
  {
   "cell_type": "code",
   "execution_count": 45,
   "metadata": {},
   "outputs": [
    {
     "data": {
      "text/plain": [
       "14.233361197724713"
      ]
     },
     "execution_count": 45,
     "metadata": {},
     "output_type": "execute_result"
    }
   ],
   "source": [
    "calc_angle(205)"
   ]
  },
  {
   "cell_type": "code",
   "execution_count": null,
   "metadata": {},
   "outputs": [],
   "source": []
  }
 ],
 "metadata": {
  "kernelspec": {
   "display_name": "base",
   "language": "python",
   "name": "python3"
  },
  "language_info": {
   "codemirror_mode": {
    "name": "ipython",
    "version": 3
   },
   "file_extension": ".py",
   "mimetype": "text/x-python",
   "name": "python",
   "nbconvert_exporter": "python",
   "pygments_lexer": "ipython3",
   "version": "3.10.9"
  }
 },
 "nbformat": 4,
 "nbformat_minor": 2
}
